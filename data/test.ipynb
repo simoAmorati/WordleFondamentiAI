{
 "cells": [
  {
   "cell_type": "code",
   "execution_count": 9,
   "metadata": {
    "collapsed": true
   },
   "outputs": [],
   "source": [
    "import numpy as np\n",
    "import string as string\n",
    "import pandas as pd\n",
    "ascii_lowercase = list(string.ascii_lowercase)\n",
    "\n",
    "\n",
    "with open(\"combined_wordlist.txt\", encoding=\"utf8\") as file:\n",
    "    words = file.readlines()\n",
    "    words = [word.rstrip() for word in words]\n",
    "    words = [w for w in words if len(w) == 5 ]\n",
    "    words = list(dict.fromkeys(words))  # remove duplicates\n",
    "\n",
    "letters=list(string.ascii_lowercase)\n",
    "freq_let={l : 0 for l in letters}\n",
    "freq_first_let={l : 0 for l in letters}\n",
    "for word in words:\n",
    "    freq_first_let[word[0]]+=1\n",
    "    freq_let[word[0]]+=1\n",
    "    freq_let[word[1]]+=1\n",
    "    freq_let[word[2]]+=1\n",
    "    freq_let[word[3]]+=1\n",
    "    freq_let[word[4]]+=1\n",
    "\n",
    "freq_let_sort={k: v for k, v in sorted(freq_let.items(), key=lambda item: item[1])}\n",
    "freq_first_let_sort={k: v for k, v in sorted(freq_first_let.items(), key=lambda item: item[1])}"
   ]
  }
 ],
 "metadata": {
  "kernelspec": {
   "display_name": "Python 3",
   "language": "python",
   "name": "python3"
  },
  "language_info": {
   "codemirror_mode": {
    "name": "ipython",
    "version": 2
   },
   "file_extension": ".py",
   "mimetype": "text/x-python",
   "name": "python",
   "nbconvert_exporter": "python",
   "pygments_lexer": "ipython2",
   "version": "2.7.6"
  }
 },
 "nbformat": 4,
 "nbformat_minor": 0
}